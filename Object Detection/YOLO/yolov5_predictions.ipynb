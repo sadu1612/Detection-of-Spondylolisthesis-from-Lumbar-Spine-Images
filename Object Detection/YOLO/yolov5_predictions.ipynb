{
 "cells": [
  {
   "cell_type": "code",
   "execution_count": 1,
   "id": "ea9be0e2",
   "metadata": {},
   "outputs": [],
   "source": [
    "import cv2\n",
    "import numpy as np\n",
    "import os\n",
    "import yaml\n",
    "from yaml.loader import SafeLoader"
   ]
  },
  {
   "cell_type": "markdown",
   "id": "5b8cafdb",
   "metadata": {},
   "source": [
    "## AP\n"
   ]
  },
  {
   "cell_type": "code",
   "execution_count": 3,
   "id": "e96f8700",
   "metadata": {},
   "outputs": [
    {
     "name": "stdout",
     "output_type": "stream",
     "text": [
      "E:\\MAJOR_project_2\\Dataset\\BUU_LSPINE_400\\BUU_LSPINE_400\\YOLO\n"
     ]
    }
   ],
   "source": [
    "cd E:\\MAJOR_project_2\\Dataset\\BUU_LSPINE_400\\BUU_LSPINE_400\\YOLO"
   ]
  },
  {
   "cell_type": "code",
   "execution_count": 4,
   "id": "47ab2fed",
   "metadata": {},
   "outputs": [
    {
     "name": "stdout",
     "output_type": "stream",
     "text": [
      "['APL1', 'APL2', 'APL3', 'APL4', 'APL5']\n"
     ]
    }
   ],
   "source": [
    "#load YAML\n",
    "with open('yolo_yaml.yaml', mode = 'r') as f:\n",
    "    ap_data_yaml = yaml.load(f, Loader = SafeLoader)\n",
    "    \n",
    "labels = ap_data_yaml['names']\n",
    "print(labels)"
   ]
  },
  {
   "cell_type": "code",
   "execution_count": 5,
   "id": "3a8e9379",
   "metadata": {},
   "outputs": [
    {
     "name": "stdout",
     "output_type": "stream",
     "text": [
      "E:\\MAJOR_project_2\\Dataset\\BUU_LSPINE_400\\BUU_LSPINE_400\\YOLO\\total_model\n"
     ]
    }
   ],
   "source": [
    "cd E:\\MAJOR_project_2\\Dataset\\BUU_LSPINE_400\\BUU_LSPINE_400\\YOLO\\total_model"
   ]
  },
  {
   "cell_type": "code",
   "execution_count": 6,
   "id": "98a81f5b",
   "metadata": {},
   "outputs": [],
   "source": [
    "#load YOLO model\n",
    "yolo = cv2.dnn.readNetFromONNX(\"best.onnx\")\n",
    "yolo.setPreferableBackend(cv2.dnn.DNN_BACKEND_OPENCV)\n",
    "yolo.setPreferableTarget(cv2.dnn.DNN_TARGET_CPU)"
   ]
  },
  {
   "cell_type": "code",
   "execution_count": 7,
   "id": "712a33eb",
   "metadata": {},
   "outputs": [],
   "source": [
    "#load image\n",
    "img = cv2.imread(r\"E:\\MAJOR_project_2\\Dataset\\BUU_LSPINE_400\\BUU_LSPINE_400\\AP\\0001-F-037Y0.jpg\")\n",
    "image = img.copy()\n",
    "row, col, d = image.shape\n",
    "\n",
    "#get the yolo prediction from the image\n",
    "#step-1: convert image into square image(array)\n",
    "max_rc = max(row, col)\n",
    "input_image = np.zeros((max_rc, max_rc, 3), dtype = np.uint8)\n",
    "input_image[0:row, 0:col] = image\n",
    "\n",
    "#step-2: get prediction from the square array\n",
    "INPUT_WH_YOLO = 640\n",
    "blob = cv2.dnn.blobFromImage(input_image, 1/255, (INPUT_WH_YOLO, INPUT_WH_YOLO), swapRB = True, crop = False)\n",
    "yolo.setInput(blob)\n",
    "preds = yolo.forward() # detection or prediction from yolo\n",
    "\n",
    "\n",
    "\n",
    "# cv2.imshow('image', image)\n",
    "# cv2.waitKey(0)\n",
    "# cv2.destroyAllWindows()"
   ]
  },
  {
   "cell_type": "code",
   "execution_count": 8,
   "id": "e344b89f",
   "metadata": {},
   "outputs": [
    {
     "name": "stdout",
     "output_type": "stream",
     "text": [
      "(1, 25200, 10)\n"
     ]
    }
   ],
   "source": [
    "print(preds.shape)"
   ]
  },
  {
   "cell_type": "code",
   "execution_count": 9,
   "id": "bb371ee0",
   "metadata": {},
   "outputs": [],
   "source": [
    "#non maximum supression\n",
    "#step1: filter detection based on confidence(0.3) and probability score (0.2)\n",
    "detections = preds[0]\n",
    "boxes = []\n",
    "confidences = []\n",
    "classes = []\n",
    "\n",
    "#width and height of image(input_image)\n",
    "image_w, image_h = input_image.shape[0:2]\n",
    "x_factor = image_w/INPUT_WH_YOLO\n",
    "y_factor = image_h/INPUT_WH_YOLO\n",
    "\n",
    "for i in range(len(detections)):\n",
    "    row = detections[i]\n",
    "    confidence = row[4]\n",
    "    \n",
    "    if confidence > 0.4:\n",
    "        class_score = row[5:].max() #max probability from 5 objects\n",
    "        class_id = row[5:].argmax()\n",
    "        \n",
    "        if class_score > 0.25:\n",
    "            cx, cy, w, h = row[0:4]\n",
    "            #construct bounding box from four values\n",
    "            #left, top, width and height\n",
    "            left = int((cx- 0.5*w)*x_factor)\n",
    "            top = int((cy - 0.5*h)*y_factor)\n",
    "            width = int(w*x_factor)\n",
    "            height = int(h*y_factor)\n",
    "            \n",
    "            box = np.array([left, top, width, height])\n",
    "            \n",
    "            #append values into list\n",
    "            confidences.append(confidence)\n",
    "            boxes.append(box)\n",
    "            classes.append(class_id)\n",
    "\n",
    "#clean\n",
    "boxes_np = np.array(boxes).tolist()\n",
    "confidences_np = np.array(confidences).tolist()\n",
    "\n",
    "#NMS\n",
    "index = cv2.dnn.NMSBoxes(boxes_np, confidences_np, 0.25, 0.4).flatten()\n"
   ]
  },
  {
   "cell_type": "code",
   "execution_count": 10,
   "id": "ac8801a3",
   "metadata": {},
   "outputs": [
    {
     "data": {
      "text/plain": [
       "array([65, 22, 10, 13, 62])"
      ]
     },
     "execution_count": 10,
     "metadata": {},
     "output_type": "execute_result"
    }
   ],
   "source": [
    "index"
   ]
  },
  {
   "cell_type": "code",
   "execution_count": 11,
   "id": "0cd73ca5",
   "metadata": {},
   "outputs": [],
   "source": [
    "#draw bounding box\n",
    "for ind in index:\n",
    "    x,y,w,h = boxes_np[ind]\n",
    "    bb_conf = int(confidences_np[ind]*100)\n",
    "    classes_id = classes[ind]\n",
    "    class_name = labels[classes_id]\n",
    "    \n",
    "    text = f\"{class_name}: {bb_conf}%\"\n",
    "    cv2.rectangle(image, (x,y), (x+w, y+h), (255,0,0), 2)\n",
    "    cv2.rectangle(image, (x,y-30), (x+int(0.35*w), y), (255,255,255), -1)\n",
    "    \n",
    "    cv2.putText(image, text, (x, y-10), cv2.FONT_HERSHEY_PLAIN, 0.7, (0,0,0), 1)"
   ]
  },
  {
   "cell_type": "code",
   "execution_count": 12,
   "id": "72f9b169",
   "metadata": {},
   "outputs": [],
   "source": [
    "# img = cv2.resize(img, (1200,1200))\n",
    "# image = cv2.resize(image, (1200,1200))\n",
    "\n",
    "# cv2.imshow('original', img)\n",
    "# cv2.imshow('yolo_pred', image)\n",
    "\n",
    "cv2.imwrite('save_yolo_pred_ap.jpg', image)\n",
    "cv2.waitKey(0)\n",
    "cv2.destroyAllWindows()"
   ]
  },
  {
   "cell_type": "code",
   "execution_count": null,
   "id": "fc45e1d9",
   "metadata": {},
   "outputs": [],
   "source": []
  },
  {
   "cell_type": "markdown",
   "id": "028d24ef",
   "metadata": {},
   "source": [
    "## LA"
   ]
  },
  {
   "cell_type": "code",
   "execution_count": 10,
   "id": "c57c6ed0",
   "metadata": {},
   "outputs": [
    {
     "name": "stdout",
     "output_type": "stream",
     "text": [
      "['APL1', 'APL2', 'APL3', 'APL4', 'APL5']\n"
     ]
    }
   ],
   "source": [
    "#load YAML\n",
    "with open('LA_data.yaml', mode = 'r') as f:\n",
    "    la_data_yaml = yaml.load(f, Loader = SafeLoader)\n",
    "    \n",
    "labels = la_data_yaml['names']\n",
    "print(labels)"
   ]
  },
  {
   "cell_type": "code",
   "execution_count": 11,
   "id": "5c5fd955",
   "metadata": {},
   "outputs": [],
   "source": [
    "#load YOLO model\n",
    "yolo = cv2.dnn.readNetFromONNX(r\"E:\\MAJOR_project_2\\Dataset\\BUU_LSPINE_400\\BUU_LSPINE_400\\LA_model\\weights\\best.onnx\")\n",
    "yolo.setPreferableBackend(cv2.dnn.DNN_BACKEND_OPENCV)\n",
    "yolo.setPreferableTarget(cv2.dnn.DNN_TARGET_CPU)"
   ]
  },
  {
   "cell_type": "code",
   "execution_count": 12,
   "id": "5458ccb2",
   "metadata": {},
   "outputs": [],
   "source": [
    "#load image\n",
    "img = cv2.imread(r\"E:\\MAJOR_project_2\\Dataset\\BUU_LSPINE_400\\BUU_LSPINE_400\\LA\\0001-F-037Y1.jpg\")\n",
    "image = img.copy()\n",
    "row, col, d = image.shape\n",
    "\n",
    "#get the yolo prediction from the image\n",
    "#step-1: convert image into square image(array)\n",
    "max_rc = max(row, col)\n",
    "input_image = np.zeros((max_rc, max_rc, 3), dtype = np.uint8)\n",
    "input_image[0:row, 0:col] = image\n",
    "\n",
    "#step-2: get prediction from the square array\n",
    "INPUT_WH_YOLO = 640\n",
    "blob = cv2.dnn.blobFromImage(input_image, 1/255, (INPUT_WH_YOLO, INPUT_WH_YOLO), swapRB = True, crop = False)\n",
    "yolo.setInput(blob)\n",
    "preds = yolo.forward() # detection or prediction from yolo\n",
    "\n",
    "\n",
    "\n",
    "# cv2.imshow('image', image)\n",
    "# cv2.waitKey(0)\n",
    "# cv2.destroyAllWindows()"
   ]
  },
  {
   "cell_type": "code",
   "execution_count": 14,
   "id": "c03ef227",
   "metadata": {},
   "outputs": [],
   "source": [
    "#non maximum supression\n",
    "#step1: filter detection based on confidence(0.3) and probability score (0.2)\n",
    "detections = preds[0]\n",
    "boxes = []\n",
    "confidences = []\n",
    "classes = []\n",
    "\n",
    "#width and height of image(input_image)\n",
    "image_w, image_h = input_image.shape[0:2]\n",
    "x_factor = image_w/INPUT_WH_YOLO\n",
    "y_factor = image_h/INPUT_WH_YOLO\n",
    "\n",
    "for i in range(len(detections)):\n",
    "    row = detections[i]\n",
    "    confidence = row[4]\n",
    "    \n",
    "    if confidence > 0.4:\n",
    "        class_score = row[5:].max() #max probability from 5 objects\n",
    "        class_id = row[5:].argmax()\n",
    "        \n",
    "        if class_score > 0.25:\n",
    "            cx, cy, w, h = row[0:4]\n",
    "            #construct bounding box from four values\n",
    "            #left, top, width and height\n",
    "            left = int((cx- 0.5*w)*x_factor)\n",
    "            top = int((cy - 0.5*h)*y_factor)\n",
    "            width = int(w*x_factor)\n",
    "            height = int(h*y_factor)\n",
    "            \n",
    "            box = np.array([left, top, width, height])\n",
    "            \n",
    "            #append values into list\n",
    "            confidences.append(confidence)\n",
    "            boxes.append(box)\n",
    "            classes.append(class_id)\n",
    "\n",
    "#clean\n",
    "boxes_np = np.array(boxes).tolist()\n",
    "confidences_np = np.array(confidences).tolist()\n",
    "\n",
    "#NMS\n",
    "index = cv2.dnn.NMSBoxes(boxes_np, confidences_np, 0.25, 0.4).flatten()\n"
   ]
  },
  {
   "cell_type": "code",
   "execution_count": 15,
   "id": "9d9e2f9c",
   "metadata": {},
   "outputs": [
    {
     "data": {
      "text/plain": [
       "array([79,  9, 82, 21, 23])"
      ]
     },
     "execution_count": 15,
     "metadata": {},
     "output_type": "execute_result"
    }
   ],
   "source": [
    "index"
   ]
  },
  {
   "cell_type": "code",
   "execution_count": 16,
   "id": "e5aa2ad2",
   "metadata": {},
   "outputs": [],
   "source": [
    "#draw bounding box\n",
    "for ind in index:\n",
    "    x,y,w,h = boxes_np[ind]\n",
    "    bb_conf = int(confidences_np[ind]*100)\n",
    "    classes_id = classes[ind]\n",
    "    class_name = labels[classes_id]\n",
    "    \n",
    "    text = f\"{class_name}: {bb_conf}%\"\n",
    "    cv2.rectangle(image, (x,y), (x+w, y+h), (255,0,0), 2)\n",
    "    cv2.rectangle(image, (x,y-30), (x+int(0.35*w), y), (255,255,255), -1)\n",
    "    \n",
    "    cv2.putText(image, text, (x, y-10), cv2.FONT_HERSHEY_PLAIN, 0.7, (0,0,0), 1)"
   ]
  },
  {
   "cell_type": "code",
   "execution_count": 17,
   "id": "bee02fe2",
   "metadata": {},
   "outputs": [],
   "source": [
    "# img = cv2.resize(img, (1200,1200))\n",
    "# image = cv2.resize(image, (1200,1200))\n",
    "\n",
    "# cv2.imshow('original', img)\n",
    "# cv2.imshow('yolo_pred', image)\n",
    "\n",
    "cv2.imwrite('save_yolo_pred_la.jpg', image)\n",
    "cv2.waitKey(0)\n",
    "cv2.destroyAllWindows()"
   ]
  },
  {
   "cell_type": "code",
   "execution_count": null,
   "id": "b5c1ba65",
   "metadata": {},
   "outputs": [],
   "source": []
  }
 ],
 "metadata": {
  "kernelspec": {
   "display_name": "Python 3 (ipykernel)",
   "language": "python",
   "name": "python3"
  },
  "language_info": {
   "codemirror_mode": {
    "name": "ipython",
    "version": 3
   },
   "file_extension": ".py",
   "mimetype": "text/x-python",
   "name": "python",
   "nbconvert_exporter": "python",
   "pygments_lexer": "ipython3",
   "version": "3.9.13"
  }
 },
 "nbformat": 4,
 "nbformat_minor": 5
}
